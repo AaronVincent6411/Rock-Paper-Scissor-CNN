{
  "nbformat": 4,
  "nbformat_minor": 0,
  "metadata": {
    "colab": {
      "provenance": [],
      "gpuType": "T4",
      "include_colab_link": true
    },
    "kernelspec": {
      "name": "python3",
      "display_name": "Python 3"
    },
    "language_info": {
      "name": "python"
    },
    "accelerator": "GPU"
  },
  "cells": [
    {
      "cell_type": "markdown",
      "metadata": {
        "id": "view-in-github",
        "colab_type": "text"
      },
      "source": [
        "<a href=\"https://colab.research.google.com/github/AaronVincent6411/Rock-Paper-Scissor-CNN/blob/main/Rock%2C_Paper%2C_Scissor_using_CNN.ipynb\" target=\"_parent\"><img src=\"https://colab.research.google.com/assets/colab-badge.svg\" alt=\"Open In Colab\"/></a>"
      ]
    },
    {
      "cell_type": "code",
      "source": [
        "import gdown\n",
        "from tensorflow.keras.preprocessing.image import ImageDataGenerator\n",
        "import os\n",
        "from PIL import Image\n",
        "import numpy as np\n",
        "import tensorflow as tf\n",
        "from tensorflow.keras.models import Sequential\n",
        "from tensorflow.keras.layers import Conv2D, BatchNormalization, MaxPooling2D, Flatten, Dense, Dropout\n",
        "from tensorflow.keras.regularizers import l2\n",
        "from keras.callbacks import Callback\n",
        "from tensorflow.keras.optimizers import Adam\n",
        "from tensorflow.keras.preprocessing import image"
      ],
      "metadata": {
        "id": "YPasDVwz-1W4"
      },
      "execution_count": null,
      "outputs": []
    },
    {
      "cell_type": "code",
      "source": [
        "url = f\"https://drive.google.com/uc?id=1w05lAAN30z1Ho7k2731Sv9-THoEPjDe1\"\n",
        "output = \"/content/dataset.zip\"\n",
        "\n",
        "gdown.download(url, output, quiet=False)"
      ],
      "metadata": {
        "colab": {
          "base_uri": "https://localhost:8080/",
          "height": 105
        },
        "id": "qN7sYpJw-tUA",
        "outputId": "ead30aeb-60da-4053-cd68-5abcab141884"
      },
      "execution_count": null,
      "outputs": [
        {
          "output_type": "stream",
          "name": "stderr",
          "text": [
            "Downloading...\n",
            "From: https://drive.google.com/uc?id=1w05lAAN30z1Ho7k2731Sv9-THoEPjDe1\n",
            "To: /content/dataset.zip\n",
            "100%|██████████| 474M/474M [00:08<00:00, 55.7MB/s]\n"
          ]
        },
        {
          "output_type": "execute_result",
          "data": {
            "text/plain": [
              "'/content/dataset.zip'"
            ],
            "application/vnd.google.colaboratory.intrinsic+json": {
              "type": "string"
            }
          },
          "metadata": {},
          "execution_count": 2
        }
      ]
    },
    {
      "cell_type": "code",
      "source": [
        "!unzip -qq dataset.zip"
      ],
      "metadata": {
        "id": "7W2q0NRZ_d95"
      },
      "execution_count": null,
      "outputs": []
    },
    {
      "cell_type": "code",
      "source": [
        "train = '/content/Rock-Paper-Scissors/train'\n",
        "valid = '/content/Rock-Paper-Scissors/validation'"
      ],
      "metadata": {
        "id": "Se8RSCw6BKgN"
      },
      "execution_count": null,
      "outputs": []
    },
    {
      "cell_type": "code",
      "source": [
        "train_data = ImageDataGenerator(rescale = 1.0/255, validation_split=0.2)\n",
        "\n",
        "train_generator = train_data.flow_from_directory(train, batch_size=32, class_mode='categorical', target_size=(300, 300), subset='training')"
      ],
      "metadata": {
        "colab": {
          "base_uri": "https://localhost:8080/"
        },
        "id": "a9ljKZgEABr2",
        "outputId": "e98122a1-7e2d-4f0d-933d-3df4d8d2de62"
      },
      "execution_count": null,
      "outputs": [
        {
          "output_type": "stream",
          "name": "stdout",
          "text": [
            "Found 2016 images belonging to 3 classes.\n"
          ]
        }
      ]
    },
    {
      "cell_type": "code",
      "source": [
        "image_paths = [os.path.join(valid, filename) for filename in os.listdir(valid)]\n",
        "\n",
        "preprocessed_images = []\n",
        "for image_path in image_paths:\n",
        "    img = Image.open(image_path)\n",
        "    img = img.resize((300, 300))\n",
        "    img = np.array(img) / 255.0\n",
        "    preprocessed_images.append(img)"
      ],
      "metadata": {
        "id": "H0Je_GEHJ22T"
      },
      "execution_count": null,
      "outputs": []
    },
    {
      "cell_type": "code",
      "source": [
        "validation_data = np.array(preprocessed_images)"
      ],
      "metadata": {
        "id": "aidln5HoE9rK"
      },
      "execution_count": null,
      "outputs": []
    },
    {
      "cell_type": "code",
      "source": [
        "num_images = len(image_paths)\n",
        "dummy_labels = np.zeros((num_images,))"
      ],
      "metadata": {
        "id": "vVKurbXTKJvg"
      },
      "execution_count": null,
      "outputs": []
    },
    {
      "cell_type": "code",
      "source": [
        "validation_generator = ImageDataGenerator().flow(\n",
        "    x=validation_data,\n",
        "    y=dummy_labels,\n",
        "    batch_size=32,\n",
        "    shuffle=False\n",
        ")"
      ],
      "metadata": {
        "id": "gRAblB55KUCi"
      },
      "execution_count": null,
      "outputs": []
    },
    {
      "cell_type": "code",
      "source": [
        "model = Sequential([\n",
        "    Conv2D(64, (5, 5), activation='relu', input_shape=(300, 300, 3)),\n",
        "    BatchNormalization(),\n",
        "    Dropout(0.25),\n",
        "\n",
        "    Conv2D(64, (3, 3), activation='relu', padding='same'),\n",
        "    MaxPooling2D((2, 2)),\n",
        "    Dropout(0.25),\n",
        "\n",
        "    Conv2D(128, (3, 3), activation='relu', padding='same'),\n",
        "    MaxPooling2D((2, 2)),\n",
        "    Dropout(0.25),\n",
        "\n",
        "    Flatten(),\n",
        "\n",
        "    Dense(256, activation='relu', kernel_regularizer=l2(0.001)),\n",
        "    Dropout(0.5),\n",
        "    Dense(3, activation='softmax')\n",
        "])\n",
        "\n",
        "model.summary()"
      ],
      "metadata": {
        "colab": {
          "base_uri": "https://localhost:8080/"
        },
        "id": "wl8ITrTfCCSz",
        "outputId": "e6965e8a-cd2d-49e6-d040-625952da7f33"
      },
      "execution_count": null,
      "outputs": [
        {
          "output_type": "stream",
          "name": "stdout",
          "text": [
            "Model: \"sequential\"\n",
            "_________________________________________________________________\n",
            " Layer (type)                Output Shape              Param #   \n",
            "=================================================================\n",
            " conv2d (Conv2D)             (None, 296, 296, 64)      4864      \n",
            "                                                                 \n",
            " batch_normalization (Batch  (None, 296, 296, 64)      256       \n",
            " Normalization)                                                  \n",
            "                                                                 \n",
            " dropout (Dropout)           (None, 296, 296, 64)      0         \n",
            "                                                                 \n",
            " conv2d_1 (Conv2D)           (None, 296, 296, 64)      36928     \n",
            "                                                                 \n",
            " max_pooling2d (MaxPooling2  (None, 148, 148, 64)      0         \n",
            " D)                                                              \n",
            "                                                                 \n",
            " dropout_1 (Dropout)         (None, 148, 148, 64)      0         \n",
            "                                                                 \n",
            " conv2d_2 (Conv2D)           (None, 148, 148, 128)     73856     \n",
            "                                                                 \n",
            " max_pooling2d_1 (MaxPoolin  (None, 74, 74, 128)       0         \n",
            " g2D)                                                            \n",
            "                                                                 \n",
            " dropout_2 (Dropout)         (None, 74, 74, 128)       0         \n",
            "                                                                 \n",
            " flatten (Flatten)           (None, 700928)            0         \n",
            "                                                                 \n",
            " dense (Dense)               (None, 256)               179437824 \n",
            "                                                                 \n",
            " dropout_3 (Dropout)         (None, 256)               0         \n",
            "                                                                 \n",
            " dense_1 (Dense)             (None, 3)                 771       \n",
            "                                                                 \n",
            "=================================================================\n",
            "Total params: 179554499 (684.95 MB)\n",
            "Trainable params: 179554371 (684.95 MB)\n",
            "Non-trainable params: 128 (512.00 Byte)\n",
            "_________________________________________________________________\n"
          ]
        }
      ]
    },
    {
      "cell_type": "code",
      "source": [
        "model.compile(loss = 'categorical_crossentropy', optimizer= Adam(), metrics=['accuracy'])"
      ],
      "metadata": {
        "id": "UCfv4fS4DQ0N"
      },
      "execution_count": null,
      "outputs": []
    },
    {
      "cell_type": "code",
      "source": [
        "class myCallback(tf.keras.callbacks.Callback):\n",
        "  def on_epoch_end(self, epoch, logs={}):\n",
        "\n",
        "    if(logs.get('accuracy') > 0.995):\n",
        "      self.model.stop_training = True\n",
        "\n",
        "callbacks = myCallback()"
      ],
      "metadata": {
        "id": "_miKK-tGPnTC"
      },
      "execution_count": null,
      "outputs": []
    },
    {
      "cell_type": "code",
      "source": [
        "history = model.fit(train_generator, epochs=25, verbose=1, steps_per_epoch=len(train_generator), validation_steps=len(validation_generator), callbacks = [callbacks])"
      ],
      "metadata": {
        "colab": {
          "base_uri": "https://localhost:8080/"
        },
        "id": "zlX_bNdMDawa",
        "outputId": "2709d043-a35a-4d52-9b90-fe42674e83f3"
      },
      "execution_count": null,
      "outputs": [
        {
          "output_type": "stream",
          "name": "stdout",
          "text": [
            "Epoch 1/25\n",
            " 6/63 [=>............................] - ETA: 35s - loss: 117.8672 - accuracy: 0.3438"
          ]
        },
        {
          "output_type": "stream",
          "name": "stderr",
          "text": [
            "WARNING:tensorflow:Callback method `on_train_batch_end` is slow compared to the batch time (batch time: 0.1671s vs `on_train_batch_end` time: 0.3824s). Check your callbacks.\n"
          ]
        },
        {
          "output_type": "stream",
          "name": "stdout",
          "text": [
            "63/63 [==============================] - 56s 605ms/step - loss: 15.3868 - accuracy: 0.4851\n",
            "Epoch 2/25\n",
            "63/63 [==============================] - 38s 601ms/step - loss: 2.8560 - accuracy: 0.9688\n",
            "Epoch 3/25\n",
            "63/63 [==============================] - 38s 607ms/step - loss: 1.9678 - accuracy: 0.9945\n",
            "Epoch 4/25\n",
            "63/63 [==============================] - 39s 612ms/step - loss: 1.4609 - accuracy: 0.9950\n"
          ]
        }
      ]
    },
    {
      "cell_type": "code",
      "source": [
        "model.save('DL Course Project.h5')"
      ],
      "metadata": {
        "id": "4KfSPqZOULT7"
      },
      "execution_count": null,
      "outputs": []
    },
    {
      "cell_type": "code",
      "source": [
        "model = tf.keras.models.load_model('DL Course Project.h5')"
      ],
      "metadata": {
        "id": "CQpR0mhKbSLJ"
      },
      "execution_count": null,
      "outputs": []
    },
    {
      "cell_type": "code",
      "source": [
        "def detect(test_image_path):\n",
        "  img = image.load_img(test_image_path, target_size=(300, 300))\n",
        "  img_array = image.img_to_array(img)\n",
        "  img_array = np.expand_dims(img_array, axis=0)\n",
        "  img_array /= 255.0\n",
        "  class_names = ['Paper', 'Rock', 'Scissor']\n",
        "\n",
        "  predictions = model.predict(img_array)\n",
        "  predicted_class_index = np.argmax(predictions[0])\n",
        "  predicted_class = class_names[predicted_class_index]\n",
        "\n",
        "  print(\"Predicted class:\", predicted_class)\n",
        "  print(\"Predicted probabilities:\", predictions[0])\n"
      ],
      "metadata": {
        "id": "1SiYrRVUbBMS"
      },
      "execution_count": null,
      "outputs": []
    },
    {
      "cell_type": "code",
      "source": [
        "test_image_path = '/content/Rock-Paper-Scissors/test/scissors/testscissors01-06.png'\n",
        "detect(test_image_path)\n",
        "test_image_path = '/content/Rock-Paper-Scissors/test/paper/testpaper02-13.png'\n",
        "detect(test_image_path)\n",
        "test_image_path = '/content/Rock-Paper-Scissors/test/rock/testrock03-16.png'\n",
        "detect(test_image_path)"
      ],
      "metadata": {
        "colab": {
          "base_uri": "https://localhost:8080/"
        },
        "id": "f7dDfyurUc7r",
        "outputId": "c3b0a104-c835-424e-b4be-0c571bddfa3e"
      },
      "execution_count": null,
      "outputs": [
        {
          "output_type": "stream",
          "name": "stdout",
          "text": [
            "1/1 [==============================] - 0s 301ms/step\n",
            "Predicted class: Scissor\n",
            "Predicted probabilities: [0.26544073 0.23397785 0.5005814 ]\n",
            "1/1 [==============================] - 0s 20ms/step\n",
            "Predicted class: Paper\n",
            "Predicted probabilities: [0.63206744 0.08722274 0.28070986]\n",
            "1/1 [==============================] - 0s 18ms/step\n",
            "Predicted class: Rock\n",
            "Predicted probabilities: [0.22585163 0.6158657  0.15828268]\n"
          ]
        }
      ]
    }
  ]
}